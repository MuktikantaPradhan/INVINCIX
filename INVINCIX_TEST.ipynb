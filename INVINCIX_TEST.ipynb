{
  "nbformat": 4,
  "nbformat_minor": 0,
  "metadata": {
    "colab": {
      "name": "INVINCIX_TEST.ipynb",
      "provenance": [],
      "collapsed_sections": [],
      "authorship_tag": "ABX9TyP1aB9upvQtlT5cEfrfNMfF",
      "include_colab_link": true
    },
    "kernelspec": {
      "name": "python3",
      "display_name": "Python 3"
    },
    "language_info": {
      "name": "python"
    }
  },
  "cells": [
    {
      "cell_type": "markdown",
      "metadata": {
        "id": "view-in-github",
        "colab_type": "text"
      },
      "source": [
        "<a href=\"https://colab.research.google.com/github/MuktikantaPradhan/INVINCIX/blob/main/INVINCIX_TEST.ipynb\" target=\"_parent\"><img src=\"https://colab.research.google.com/assets/colab-badge.svg\" alt=\"Open In Colab\"/></a>"
      ]
    },
    {
      "cell_type": "code",
      "source": [
        "s = input()\n",
        "l = len(s)\n",
        "for i in range (2,l-1,2):\n",
        "  if s[0] == s[i] and s[1] == s[i+1]:\n",
        "    flag = 1\n",
        "  else:\n",
        "    flag = 0 \n",
        "\n",
        "if flag == 1:\n",
        "  print(\"Yeah\")\n",
        "else:\n",
        "  print(\"oh!\")"
      ],
      "metadata": {
        "id": "cCmYLWrwUxfW"
      },
      "execution_count": null,
      "outputs": []
    }
  ]
}